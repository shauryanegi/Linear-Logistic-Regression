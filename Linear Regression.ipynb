{
 "cells": [
  {
   "cell_type": "code",
   "execution_count": 68,
   "metadata": {
    "ExecuteTime": {
     "end_time": "2020-06-17T15:44:59.079386Z",
     "start_time": "2020-06-17T15:44:59.069411Z"
    }
   },
   "outputs": [],
   "source": [
    "import numpy as np\n",
    "import pandas as pd\n",
    "import matplotlib.pyplot as plt"
   ]
  },
  {
   "cell_type": "code",
   "execution_count": 69,
   "metadata": {
    "ExecuteTime": {
     "end_time": "2020-06-17T15:44:59.263721Z",
     "start_time": "2020-06-17T15:44:59.241779Z"
    }
   },
   "outputs": [],
   "source": [
    "X_train = pd.read_csv('Linear_X_Train.csv')\n",
    "y_train = pd.read_csv('Linear_Y_Train.csv')\n",
    "X_test = pd.read_csv('Linear_X_Test.csv')"
   ]
  },
  {
   "cell_type": "code",
   "execution_count": 70,
   "metadata": {
    "ExecuteTime": {
     "end_time": "2020-06-17T15:44:59.419217Z",
     "start_time": "2020-06-17T15:44:59.402226Z"
    }
   },
   "outputs": [],
   "source": [
    "X_train = X_train.values\n",
    "y_train = y_train.values"
   ]
  },
  {
   "cell_type": "code",
   "execution_count": 71,
   "metadata": {
    "ExecuteTime": {
     "end_time": "2020-06-17T15:44:59.711468Z",
     "start_time": "2020-06-17T15:44:59.582545Z"
    }
   },
   "outputs": [
    {
     "data": {
      "image/png": "[encoded data removed]",
      "text/plain": [
       "<Figure size 432x288 with 1 Axes>"
      ]
     },
     "metadata": {
      "needs_background": "light"
     },
     "output_type": "display_data"
    }
   ],
   "source": [
    "plt.scatter(X_train,y_train, color = 'Orange')\n",
    "plt.xlabel('Hardwork')\n",
    "plt.ylabel('Marks')\n",
    "plt.show()"
   ]
  },
  {
   "cell_type": "markdown",
   "metadata": {
    "ExecuteTime": {
     "end_time": "2020-06-17T14:50:59.701321Z",
     "start_time": "2020-06-17T14:50:59.689319Z"
    }
   },
   "source": [
    "####  Preprocessing the Data\n",
    "* Makes GD faster"
   ]
  },
  {
   "cell_type": "code",
   "execution_count": 72,
   "metadata": {
    "ExecuteTime": {
     "end_time": "2020-06-17T15:44:59.929008Z",
     "start_time": "2020-06-17T15:44:59.915045Z"
    }
   },
   "outputs": [],
   "source": [
    "# Standardisation\n",
    "\n",
    "mu = X_train.mean()\n",
    "sig = X_train.std()"
   ]
  },
  {
   "cell_type": "code",
   "execution_count": 73,
   "metadata": {
    "ExecuteTime": {
     "end_time": "2020-06-17T15:45:00.115362Z",
     "start_time": "2020-06-17T15:45:00.100171Z"
    }
   },
   "outputs": [],
   "source": [
    "X_train = (X_train - mu) / sig"
   ]
  },
  {
   "cell_type": "markdown",
   "metadata": {},
   "source": [
    "## Linear Regression"
   ]
  },
  {
   "cell_type": "code",
   "execution_count": 74,
   "metadata": {
    "ExecuteTime": {
     "end_time": "2020-06-17T15:45:00.474323Z",
     "start_time": "2020-06-17T15:45:00.470357Z"
    }
   },
   "outputs": [],
   "source": [
    "def hypotheis(x, theta):\n",
    "    '''\n",
    "    theta : np.array(2,1)\n",
    "    x: scaler value\n",
    "    \n",
    "    return : y prediction\n",
    "    '''\n",
    "    return theta[0] + theta[1] * x"
   ]
  },
  {
   "cell_type": "code",
   "execution_count": 75,
   "metadata": {
    "ExecuteTime": {
     "end_time": "2020-06-17T15:45:00.675971Z",
     "start_time": "2020-06-17T15:45:00.660015Z"
    }
   },
   "outputs": [],
   "source": [
    "def error(X, Y, theta):\n",
    "    '''\n",
    "    X - (3750,1)\n",
    "    Y - (3750,1)\n",
    "    theta - (2,1)\n",
    "    \n",
    "    return : Total error of every hypothesis\n",
    "    '''\n",
    "    m = X.shape[0]\n",
    "    total_err = 0.0\n",
    "\n",
    "    for i in range(m):\n",
    "        yhat_i = hypotheis(X[i], theta)\n",
    "        yi = Y[i]\n",
    "        total_err += (yhat_i - yi)**2\n",
    "\n",
    "        return total_err /2 * m"
   ]
  },
  {
   "cell_type": "code",
   "execution_count": 76,
   "metadata": {
    "ExecuteTime": {
     "end_time": "2020-06-17T15:45:00.876364Z",
     "start_time": "2020-06-17T15:45:00.856413Z"
    }
   },
   "outputs": [],
   "source": [
    "def gradient(X, Y, theta):\n",
    "    ''' \n",
    "    X - (3750,1)\n",
    "    Y - (3750,1)\n",
    "    theta - (2,1)\n",
    "    \n",
    "    return: np array gradient (2,1)\n",
    "    '''\n",
    "    m = X.shape[0]\n",
    "    grad = np.zeros(2)\n",
    "\n",
    "    for i in range(m):\n",
    "        yhat_i = hypotheis(X[i], theta)\n",
    "        yi = Y[i]\n",
    "        grad[0] += (yhat_i - yi)\n",
    "        grad[1] += (yhat_i - yi) * X[i]\n",
    "\n",
    "    return grad / m"
   ]
  },
  {
   "cell_type": "code",
   "execution_count": 77,
   "metadata": {
    "ExecuteTime": {
     "end_time": "2020-06-17T15:45:01.062279Z",
     "start_time": "2020-06-17T15:45:01.056297Z"
    }
   },
   "outputs": [],
   "source": [
    "def gradient_descent(X, Y, lr=0.1, max_itr=100):\n",
    "    ''' \n",
    "    X - (3750,1)\n",
    "    Y - (3750,1)\n",
    "    theta - (2,1)\n",
    "    lr - learning rate\n",
    "    max_itr - Maximum Iteration\n",
    "   ------------------------------------------------------\n",
    "    return: \n",
    "        theta vector (2,1) \n",
    "        error_list \n",
    "    \n",
    "    '''\n",
    "    theta = np.zeros(2, )\n",
    "\n",
    "    error_list = []\n",
    "\n",
    "    for i in range(max_itr):\n",
    "\n",
    "        err = error(X, Y, theta)\n",
    "        error_list.append(err)\n",
    "\n",
    "        grad = gradient(X, Y, theta)\n",
    "\n",
    "        #Updation Rule\n",
    "        theta[0] = theta[0] - lr * grad[0]\n",
    "        theta[1] = theta[1] - lr * grad[1]\n",
    "\n",
    "    return theta, error_list"
   ]
  },
  {
   "cell_type": "code",
   "execution_count": 78,
   "metadata": {
    "ExecuteTime": {
     "end_time": "2020-06-17T15:45:03.795773Z",
     "start_time": "2020-06-17T15:45:01.257939Z"
    }
   },
   "outputs": [],
   "source": [
    "(opt_theta, error_list) = gradient_descent(X_train, y_train)"
   ]
  },
  {
   "cell_type": "code",
   "execution_count": 79,
   "metadata": {
    "ExecuteTime": {
     "end_time": "2020-06-17T15:45:03.811249Z",
     "start_time": "2020-06-17T15:45:03.796601Z"
    }
   },
   "outputs": [
    {
     "data": {
      "text/plain": [
       "array([ 0.6838508 , 79.90361453])"
      ]
     },
     "execution_count": 79,
     "metadata": {},
     "output_type": "execute_result"
    }
   ],
   "source": [
    "opt_theta"
   ]
  },
  {
   "cell_type": "code",
   "execution_count": 84,
   "metadata": {
    "ExecuteTime": {
     "end_time": "2020-06-17T15:46:18.203119Z",
     "start_time": "2020-06-17T15:46:18.198131Z"
    }
   },
   "outputs": [
    {
     "data": {
      "text/plain": [
       "array([[-0.25352061],\n",
       "       [-0.55541377],\n",
       "       [ 1.07380656],\n",
       "       ...,\n",
       "       [-0.26950343],\n",
       "       [ 1.72730762],\n",
       "       [-0.4575866 ]])"
      ]
     },
     "execution_count": 84,
     "metadata": {},
     "output_type": "execute_result"
    }
   ],
   "source": [
    "X_train"
   ]
  },
  {
   "cell_type": "code",
   "execution_count": 89,
   "metadata": {
    "ExecuteTime": {
     "end_time": "2020-06-17T15:47:40.786722Z",
     "start_time": "2020-06-17T15:47:40.777746Z"
    }
   },
   "outputs": [],
   "source": [
    "y_cap = hypotheis(X_train, opt_theta)"
   ]
  },
  {
   "cell_type": "code",
   "execution_count": 94,
   "metadata": {
    "ExecuteTime": {
     "end_time": "2020-06-17T15:48:46.795224Z",
     "start_time": "2020-06-17T15:48:46.633277Z"
    }
   },
   "outputs": [
    {
     "data": {
      "image/png": "[encoded data removed]",
      "text/plain": [
       "<Figure size 432x288 with 1 Axes>"
      ]
     },
     "metadata": {
      "needs_background": "light"
     },
     "output_type": "display_data"
    }
   ],
   "source": [
    "plt.scatter(X_train, y_train)\n",
    "plt.plot(X_train, y_cap, color='orange', label='Hypothesis')\n",
    "plt.legend()\n",
    "plt.show()"
   ]
  },
  {
   "cell_type": "markdown",
   "metadata": {},
   "source": [
    "## Test Data"
   ]
  },
  {
   "cell_type": "code",
   "execution_count": 97,
   "metadata": {
    "ExecuteTime": {
     "end_time": "2020-06-17T15:51:58.202010Z",
     "start_time": "2020-06-17T15:51:58.186021Z"
    }
   },
   "outputs": [
    {
     "data": {
      "text/plain": [
       "array([[-1.87794441],\n",
       "       [-0.86903192],\n",
       "       [-2.53018242],\n",
       "       ...,\n",
       "       [ 0.12800782],\n",
       "       [-0.27803759],\n",
       "       [-0.68042543]])"
      ]
     },
     "execution_count": 97,
     "metadata": {},
     "output_type": "execute_result"
    }
   ],
   "source": [
    "X_test.values"
   ]
  },
  {
   "cell_type": "code",
   "execution_count": 99,
   "metadata": {
    "ExecuteTime": {
     "end_time": "2020-06-17T15:54:12.083411Z",
     "start_time": "2020-06-17T15:54:12.075433Z"
    }
   },
   "outputs": [],
   "source": [
    "#Standardisation of Data for X_test\n",
    "\n",
    "X_test = (X_train- mu)/sig"
   ]
  },
  {
   "cell_type": "code",
   "execution_count": 100,
   "metadata": {
    "ExecuteTime": {
     "end_time": "2020-06-17T15:56:43.220701Z",
     "start_time": "2020-06-17T15:56:43.207738Z"
    }
   },
   "outputs": [],
   "source": [
    "y_pred = hypotheis(X_test , opt_theta)"
   ]
  },
  {
   "cell_type": "code",
   "execution_count": 104,
   "metadata": {
    "ExecuteTime": {
     "end_time": "2020-06-17T16:02:04.764536Z",
     "start_time": "2020-06-17T16:02:04.746554Z"
    }
   },
   "outputs": [],
   "source": [
    "df = pd.DataFrame(data = y_pred, columns= ['y'], index = None)"
   ]
  },
  {
   "cell_type": "code",
   "execution_count": 105,
   "metadata": {
    "ExecuteTime": {
     "end_time": "2020-06-17T16:10:30.931557Z",
     "start_time": "2020-06-17T16:10:30.905170Z"
    }
   },
   "outputs": [],
   "source": [
    "df.to_csv('Linear Regression.csv')"
   ]
  },
  {
   "cell_type": "markdown",
   "metadata": {},
   "source": [
    "### R2 score"
   ]
  },
  {
   "cell_type": "code",
   "execution_count": 106,
   "metadata": {
    "ExecuteTime": {
     "end_time": "2020-06-17T16:16:04.391226Z",
     "start_time": "2020-06-17T16:16:04.384246Z"
    }
   },
   "outputs": [],
   "source": [
    "y_pred_on_train = hypotheis(X_train, opt_theta)"
   ]
  },
  {
   "cell_type": "code",
   "execution_count": 107,
   "metadata": {
    "ExecuteTime": {
     "end_time": "2020-06-17T16:18:47.170700Z",
     "start_time": "2020-06-17T16:18:47.164718Z"
    }
   },
   "outputs": [],
   "source": [
    "def r2_score(Y, Y_):\n",
    "    num = np.sum((Y - Y_)**2)\n",
    "    denom = np.sum(( Y - Y.mean()) ** 2)\n",
    "    \n",
    "    score = 1 - (num/denom)\n",
    "    \n",
    "    return score"
   ]
  },
  {
   "cell_type": "code",
   "execution_count": 108,
   "metadata": {
    "ExecuteTime": {
     "end_time": "2020-06-17T16:18:55.576694Z",
     "start_time": "2020-06-17T16:18:55.561701Z"
    }
   },
   "outputs": [
    {
     "data": {
      "text/plain": [
       "0.9709612226971643"
      ]
     },
     "execution_count": 108,
     "metadata": {},
     "output_type": "execute_result"
    }
   ],
   "source": [
    "r2_score(y_train, y_pred_on_train)"
   ]
  },
  {
   "cell_type": "markdown",
   "metadata": {},
   "source": [
    "## Sklearn"
   ]
  },
  {
   "cell_type": "code",
   "execution_count": 109,
   "metadata": {
    "ExecuteTime": {
     "end_time": "2020-06-17T16:20:45.335587Z",
     "start_time": "2020-06-17T16:20:45.328571Z"
    }
   },
   "outputs": [],
   "source": [
    "from sklearn.linear_model import LinearRegression"
   ]
  },
  {
   "cell_type": "code",
   "execution_count": 110,
   "metadata": {
    "ExecuteTime": {
     "end_time": "2020-06-17T16:22:01.402998Z",
     "start_time": "2020-06-17T16:22:01.382054Z"
    }
   },
   "outputs": [],
   "source": [
    "linreg = LinearRegression().fit(X_train,y_train)"
   ]
  },
  {
   "cell_type": "code",
   "execution_count": 111,
   "metadata": {
    "ExecuteTime": {
     "end_time": "2020-06-17T16:22:09.309606Z",
     "start_time": "2020-06-17T16:22:09.290622Z"
    }
   },
   "outputs": [
    {
     "data": {
      "text/plain": [
       "0.9709612233822353"
      ]
     },
     "execution_count": 111,
     "metadata": {},
     "output_type": "execute_result"
    }
   ],
   "source": [
    "linreg.score(X_train,y_train)"
   ]
  },
  {
   "cell_type": "code",
   "execution_count": 113,
   "metadata": {
    "ExecuteTime": {
     "end_time": "2020-06-17T16:25:04.680455Z",
     "start_time": "2020-06-17T16:25:04.667456Z"
    }
   },
   "outputs": [],
   "source": [
    "y_pred1 = linreg.predict(X_test)"
   ]
  },
  {
   "cell_type": "code",
   "execution_count": 114,
   "metadata": {
    "ExecuteTime": {
     "end_time": "2020-06-17T16:28:29.839703Z",
     "start_time": "2020-06-17T16:28:29.832722Z"
    }
   },
   "outputs": [
    {
     "data": {
      "text/plain": [
       "array([0.68386897])"
      ]
     },
     "execution_count": 114,
     "metadata": {},
     "output_type": "execute_result"
    }
   ],
   "source": [
    "linreg.intercept_"
   ]
  },
  {
   "cell_type": "code",
   "execution_count": 115,
   "metadata": {
    "ExecuteTime": {
     "end_time": "2020-06-17T16:28:36.490768Z",
     "start_time": "2020-06-17T16:28:36.484757Z"
    }
   },
   "outputs": [
    {
     "data": {
      "text/plain": [
       "array([[79.90573694]])"
      ]
     },
     "execution_count": 115,
     "metadata": {},
     "output_type": "execute_result"
    }
   ],
   "source": [
    "linreg.coef_"
   ]
  },
  {
   "cell_type": "code",
   "execution_count": 116,
   "metadata": {
    "ExecuteTime": {
     "end_time": "2020-06-17T16:28:44.633478Z",
     "start_time": "2020-06-17T16:28:44.621511Z"
    }
   },
   "outputs": [
    {
     "data": {
      "text/plain": [
       "array([ 0.6838508 , 79.90361453])"
      ]
     },
     "execution_count": 116,
     "metadata": {},
     "output_type": "execute_result"
    }
   ],
   "source": [
    "opt_theta"
   ]
  },
  {
   "cell_type": "code",
   "execution_count": null,
   "metadata": {},
   "outputs": [],
   "source": []
  }
 ],
 "metadata": {
  "kernelspec": {
   "display_name": "Python 3",
   "language": "python",
   "name": "python3"
  },
  "language_info": {
   "codemirror_mode": {
    "name": "ipython",
    "version": 3
   },
   "file_extension": ".py",
   "mimetype": "text/x-python",
   "name": "python",
   "nbconvert_exporter": "python",
   "pygments_lexer": "ipython3",
   "version": "3.7.4"
  }
 },
 "nbformat": 4,
 "nbformat_minor": 2
}
